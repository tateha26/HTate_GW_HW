{
 "cells": [
  {
   "cell_type": "markdown",
   "metadata": {},
   "source": [
    "# Resume Analysis\n",
    "_**HARD: This is a curveball assignment. Plus, this is Python without Pandas.**_\n",
    "\n",
    "#### The objective of this assignment is for you to explain what is happening in each cell in clear, understandable language. \n",
    "\n",
    "#### _There is no need to code._ The code is there for you, and it already runs. Your task is only to explain what each line in each cell does.\n",
    "\n",
    "#### The placeholder cells should describe what happens in the cell below it."
   ]
  },
  {
   "cell_type": "markdown",
   "metadata": {},
   "source": [
    "The cell below imports `os` as a dependency because the `os.path.join` function. Also, the `string` dependency is needed because later in the script, `string.punctuation` will be used to detect and remove punctuation symbols. The line `from collection import Counter` is a dictionary-like object designed to keep tallies. With a counter, the key is the item to be counted and value is the count."
   ]
  },
  {
   "cell_type": "code",
   "execution_count": 1,
   "metadata": {},
   "outputs": [],
   "source": [
    "import os\n",
    "import string\n",
    "from collections import Counter"
   ]
  },
  {
   "cell_type": "markdown",
   "metadata": {},
   "source": [
    "_[Replace this with your clear explanation of what happens in the cell below. Think about how the `REQUIRED_SKILLS` set and the `DESIRED_SKILLS` set can be used in the program. Also, why are the variables in ALL CAPS?]_\n",
    "\n",
    "1. In this particular instance, we are creating a variable leading us to the source document which is the resume. We are using the os module to retrieve the file. \n",
    "\n",
    "2. We are creating a dictionary of required skills and another dictionary of desired skills. I suspect we will use these to cross reference one dictionary with another to help find qualified candidates in the future. "
   ]
  },
  {
   "cell_type": "code",
   "execution_count": 2,
   "metadata": {},
   "outputs": [],
   "source": [
    "# Paths\n",
    "resume_path = os.path.join(\".\", 'resume.md')\n",
    "\n",
    "# Skills to match\n",
    "REQUIRED_SKILLS = {\"excel\", \"python\", \"mysql\", \"statistics\"}\n",
    "DESIRED_SKILLS = {\"r\", \"git\", \"html\", \"css\", \"leaflet\", \"modeling\"}"
   ]
  },
  {
   "cell_type": "markdown",
   "metadata": {},
   "source": [
    "_[Replace this with your clear explanation of what happens in the cell below. How is this function defined? What does it take in, how does it work, and what does it return?]_\n",
    "\n",
    "1. The code below is allowing for us to download the file using the load_file function, open and read the file. "
   ]
  },
  {
   "cell_type": "code",
   "execution_count": 3,
   "metadata": {},
   "outputs": [],
   "source": [
    "def load_file(filepath):\n",
    "    # Helper function to read a file and return the data.\n",
    "    with open(filepath, \"r\") as resume_file_handler:\n",
    "        resume_contents = resume_file_handler.read()\n",
    "        resume_contents = resume_contents.lower()\n",
    "        resume_tokens = resume_contents.split()\n",
    "        return resume_tokens"
   ]
  },
  {
   "cell_type": "markdown",
   "metadata": {},
   "source": [
    "_[Replace this with your clear explanation of what happens in the cell below. What is this cell doing? Is it passing anything? Does it get anything back? What happens to `word_list`?]_\n",
    "\n",
    "This code is only assigning a variable to resume_path defined above and loading it. No output is associated with this. The variable word_list we will be able to use later in the code."
   ]
  },
  {
   "cell_type": "code",
   "execution_count": 9,
   "metadata": {},
   "outputs": [],
   "source": [
    "# Grab the text for a Resume\n",
    "word_list = load_file(resume_path)"
   ]
  },
  {
   "cell_type": "markdown",
   "metadata": {},
   "source": [
    "Replace this with your clear explanation of what happens in the cell below. \n",
    "Be sure to answer the following:\n",
    "* Why is a `set` created? - A set is created in order to populate it later on. This is currently an empty set that is defined as \"resume\".\n",
    "* How are we populating the set? - The set is being populated by incorporating single elements found within the word_list created from the source file we pulled from at the beginning of the code. \n",
    "* Why would it be necessary to create a `punctuation` set? - The punctuations set allows for us to remove certain elements that may appear attached to a string, which could mess up with querying certain strings in the future. \n",
    "* What does subtracting from the set do? - The subtract portion allows for the removal of what we defined as punctuation to isolate it from the strings. \n",
    "* * Refer to the `resume = resume - punctuation` line - This line re-establishes the variable \"resume\" as it being minus the punctuation to isolate the strings. \n",
    "* What does `\\n` do in a string? - This allows for us to break up lines and put the next string on the next line, like enter. "
   ]
  },
  {
   "cell_type": "code",
   "execution_count": 5,
   "metadata": {},
   "outputs": [
    {
     "name": "stdout",
     "output_type": "stream",
     "text": [
      "\n",
      "WORDS BEFORE MOVING PUNCTUATION\n",
      "{'interactions,', 'front-end', 'data', 'mysql', 'working', 'excel,', '##', 'writing', 'stein', 'graduate', 'modeling', 'cloud', 'business', 'python', 'learning,', 'using', 'boot', 'd3,', 'analytics', 'hadoop', 'databases', 'bootstrap,', 'html/css,', 'sql,', 'excel.', 'files', 'in', 'mongodb', 'web', 'mining', 'and', 'python,', 'to', 'd3', 'performing', 'creating', 'algorithms', 'skills', 'basic', 'contributing', 'hadoop,', 'machine', 'developing', 'media', 'statistics,', 'analyze', 'learning', 'tableau,', 'education', 'the', 'designing', '#', 'statistics', 'r,', 'tableau', 'frank', 'big', 'intelligence', 'vba', 'open-source', 'css,', 'visualizations', 'forecasting', 'sets', 'visualization', 'html,', 'camp', 'apps', 'experience', 'scripts', 'software', '*', 'with', 'javascript,', 'leaflet.js', 'apis.', 'aws', 'pivot', 'advanced', 'interests', 'tables', 'git/github', 'n.', 'pandas', 'mining,', 'from', 'microsoft', 'api', 'social'}\n",
      "\n",
      "WORDS AFTER MOVING PUNCTUATION\n",
      "{'interactions,', 'front-end', 'data', 'mysql', 'working', 'excel,', '##', 'writing', 'stein', 'graduate', 'modeling', 'cloud', 'business', 'python', 'learning,', 'using', 'boot', 'd3,', 'analytics', 'hadoop', 'databases', 'bootstrap,', 'html/css,', 'sql,', 'excel.', 'files', 'in', 'mongodb', 'web', 'mining', 'and', 'python,', 'to', 'd3', 'performing', 'creating', 'algorithms', 'skills', 'basic', 'contributing', 'hadoop,', 'machine', 'developing', 'media', 'statistics,', 'analyze', 'learning', 'tableau,', 'education', 'the', 'designing', 'statistics', 'r,', 'tableau', 'frank', 'big', 'intelligence', 'vba', 'open-source', 'css,', 'visualizations', 'forecasting', 'sets', 'visualization', 'html,', 'camp', 'apps', 'experience', 'scripts', 'software', 'with', 'javascript,', 'leaflet.js', 'apis.', 'aws', 'pivot', 'advanced', 'interests', 'tables', 'git/github', 'n.', 'pandas', 'mining,', 'from', 'microsoft', 'api', 'social'}\n"
     ]
    }
   ],
   "source": [
    "# Create a set of unique words from the resume\n",
    "resume = set()\n",
    "\n",
    "# HINT: Single elements in a programming language are often referred to as tokens\n",
    "for token in word_list:\n",
    "    resume.add(token)\n",
    "\n",
    "print('\\nWORDS BEFORE MOVING PUNCTUATION')    \n",
    "print(resume)\n",
    "\n",
    "# Remove Punctuation that were read as whole words\n",
    "punctuation = set(string.punctuation)\n",
    "# HINT: Attributes that are in `resume` that are not in `punctuation` (difference)\n",
    "resume = resume - punctuation\n",
    "\n",
    "print('\\nWORDS AFTER MOVING PUNCTUATION')    \n",
    "print(resume)"
   ]
  },
  {
   "cell_type": "markdown",
   "metadata": {},
   "source": [
    "Replace this with your clear explanation of what happens in the cell below. \n",
    "Be sure to answer the following:\n",
    "* What does using a `set` intersection do in this section? - This set intersection actually is able to take the required skills set and print them first, the following line takes both sets we created and finds the commons between them.\n",
    "* How does the character cleaning function work differently than the word cleaning function? (test it) - \n",
    "* Can you add more items to the `stop_words` list? - Yes, you could add the punctuation set you already created.\n",
    "* Explain how the list `word_list` list comprehension works. What does it return and what is the filtering criteria? - The word list compregension extracts a single component inside the variable word_list and sets a condition in which, if the single \"word\" component is not in the stop_words set, then include it in the \"word list\" list. This is a way to filter the data even further. "
   ]
  },
  {
   "cell_type": "code",
   "execution_count": 6,
   "metadata": {},
   "outputs": [
    {
     "name": "stdout",
     "output_type": "stream",
     "text": [
      "REQUIRED SKILLS\n",
      "{'python', 'mysql', 'statistics'}\n",
      "DESIRED SKILLS\n",
      "{'modeling'}\n",
      "\n",
      "WORD LIST AFTER PUNCTUATION REMOVAL\n",
      "['frank', 'n.', 'stein', '##', 'education', 'data', 'analytics', 'and', 'visualization', 'boot', 'camp', 'graduate', '##', 'experience', 'creating', 'pivot', 'tables', 'and', 'vba', 'scripts', 'in', 'excel.', 'modeling', 'and', 'forecasting', 'data', 'using', 'basic', 'statistics', 'writing', 'python', 'scripts', 'to', 'analyze', 'data', 'sets', 'from', 'files', 'and', 'apis.', 'social', 'media', 'mining', 'using', 'python', 'working', 'with', 'mysql', 'and', 'mongodb', 'databases', 'developing', 'front-end', 'web', 'visualizations', 'using', 'html,', 'css,', 'bootstrap,', 'd3,', 'and', 'leaflet.js', 'using', 'the', 'tableau', 'business', 'intelligence', 'software', 'performing', 'big', 'data', 'analytics', 'with', 'hadoop', 'working', 'with', 'machine', 'learning', 'algorithms', '##', 'skills', 'microsoft', 'excel,', 'python,', 'javascript,', 'html/css,', 'api', 'interactions,', 'social', 'media', 'mining,', 'sql,', 'hadoop,', 'tableau,', 'advanced', 'statistics,', 'machine', 'learning,', 'r,', 'git/github', '##', 'interests', 'contributing', 'to', 'open-source', 'software', 'data', 'analytics', 'with', 'python', 'and', 'pandas', 'designing', 'data', 'visualization', 'web', 'apps', 'with', 'html,', 'css,', 'javascript,', 'and', 'd3', 'working', 'with', 'big', 'data', 'in', 'the', 'cloud', 'using', 'aws']\n",
      "\n",
      "WORD LIST AFTER CHARACTER PUNCTUATION REMOVAL\n",
      "['frank', 'n', 'stein', '', 'education', 'data', 'analytics', 'and', 'visualization', 'boot', 'camp', 'graduate', '', 'experience', 'creating', 'pivot', 'tables', 'and', 'vba', 'scripts', 'in', 'excel', 'modeling', 'and', 'forecasting', 'data', 'using', 'basic', 'statistics', 'writing', 'python', 'scripts', 'to', 'analyze', 'data', 'sets', 'from', 'files', 'and', 'apis', 'social', 'media', 'mining', 'using', 'python', 'working', 'with', 'mysql', 'and', 'mongodb', 'databases', 'developing', 'frontend', 'web', 'visualizations', 'using', 'html', 'css', 'bootstrap', 'd3', 'and', 'leafletjs', 'using', 'the', 'tableau', 'business', 'intelligence', 'software', 'performing', 'big', 'data', 'analytics', 'with', 'hadoop', 'working', 'with', 'machine', 'learning', 'algorithms', '', 'skills', 'microsoft', 'excel', 'python', 'javascript', 'htmlcss', 'api', 'interactions', 'social', 'media', 'mining', 'sql', 'hadoop', 'tableau', 'advanced', 'statistics', 'machine', 'learning', 'r', 'gitgithub', '', 'interests', 'contributing', 'to', 'opensource', 'software', 'data', 'analytics', 'with', 'python', 'and', 'pandas', 'designing', 'data', 'visualization', 'web', 'apps', 'with', 'html', 'css', 'javascript', 'and', 'd3', 'working', 'with', 'big', 'data', 'in', 'the', 'cloud', 'using', 'aws']\n",
      "\n",
      "WORD LIST AFTER STOP WORDS\n",
      "['frank', 'n', 'stein', '', 'education', 'data', 'analytics', 'visualization', 'boot', 'camp', 'graduate', '', 'experience', 'creating', 'pivot', 'tables', 'vba', 'scripts', 'excel', 'modeling', 'forecasting', 'data', 'basic', 'statistics', 'writing', 'python', 'scripts', 'analyze', 'data', 'sets', 'from', 'files', 'apis', 'social', 'media', 'mining', 'python', 'mysql', 'mongodb', 'databases', 'developing', 'frontend', 'web', 'visualizations', 'html', 'css', 'bootstrap', 'd3', 'leafletjs', 'the', 'tableau', 'business', 'intelligence', 'software', 'performing', 'big', 'data', 'analytics', 'hadoop', 'machine', 'learning', 'algorithms', '', 'skills', 'microsoft', 'excel', 'python', 'javascript', 'htmlcss', 'api', 'interactions', 'social', 'media', 'mining', 'sql', 'hadoop', 'tableau', 'advanced', 'statistics', 'machine', 'learning', 'r', 'gitgithub', '', 'interests', 'contributing', 'opensource', 'software', 'data', 'analytics', 'python', 'pandas', 'designing', 'data', 'visualization', 'web', 'apps', 'html', 'css', 'javascript', 'd3', 'big', 'data', 'the', 'cloud', 'aws']\n"
     ]
    }
   ],
   "source": [
    "# Calculate the Required Skills Match using Set Intersection\n",
    "print('REQUIRED SKILLS')\n",
    "print(resume & REQUIRED_SKILLS)\n",
    "\n",
    "# Calculate the Desired Skills Match using Set Intersection\n",
    "print('DESIRED SKILLS')\n",
    "print(resume & DESIRED_SKILLS)\n",
    "\n",
    "\n",
    "# Word Punctuation Cleaning\n",
    "word_list = [word for word in word_list if word not in string.punctuation]\n",
    "print('\\nWORD LIST AFTER PUNCTUATION REMOVAL')\n",
    "print(word_list)\n",
    "\n",
    "# Character Punctuation Cleaning\n",
    "word_list = [''.join(char for char in word if char not in string.punctuation) for word in word_list]\n",
    "print('\\nWORD LIST AFTER CHARACTER PUNCTUATION REMOVAL')\n",
    "print(word_list)\n",
    "\n",
    "# Clean Stop Words\n",
    "stop_words = [\"and\", \"with\", \"using\", \"##\", \"working\", \"in\", \"to\"]\n",
    "word_list = [word for word in word_list if word not in stop_words]\n",
    "print('\\nWORD LIST AFTER STOP WORDS')\n",
    "print(word_list)"
   ]
  },
  {
   "cell_type": "markdown",
   "metadata": {},
   "source": [
    "Replace this with your clear explanation of what happens in the cell below.\n",
    "Be sure to explain the following:\n",
    "\n",
    "* How was the `word_count` dictionary initialized, what were in initial key values, and how were they set? - The dictionary was initialized with the inclusion of curly brackets and is defined as an empty dictionary. The fromkeys function is looking to place the values in the word_list inside the dictionary with index 0 representing the placement of columns.\n",
    "\n",
    "* Explain the logic behind incrementing the word count value using the `for loop`. Be sure to explain how to reference the word key in the `word_count` dictionary - \"word\" in \"word_list\" represents a single element inside the word_list such as python or scripts or anything already noted above. \"Word\" can be any word in this case and \"word_list\" references the previously populated list above. Now we are taking the function we used for the dictionary \"word_count\" and using it to count the amount of times in which each individual element in the \"word_list\" appears. It will provide a count for each of these elements. \n",
    "\n",
    "* Collections.counter is optional, but explain the difference between the `for loop` and using `Counter` - This function does the same thing as the line of code above and counts unique words by using the counter function and referencing the word_list."
   ]
  },
  {
   "cell_type": "code",
   "execution_count": 13,
   "metadata": {},
   "outputs": [
    {
     "name": "stdout",
     "output_type": "stream",
     "text": [
      "Counter({'*': 15, 'and': 8, 'data': 7, 'with': 6, 'using': 5, '##': 4, 'analytics': 3, 'python': 3, 'working': 3, 'visualization': 2, 'scripts': 2, 'in': 2, 'to': 2, 'social': 2, 'media': 2, 'web': 2, 'html,': 2, 'css,': 2, 'the': 2, 'software': 2, 'big': 2, 'machine': 2, 'javascript,': 2, '#': 1, 'frank': 1, 'n.': 1, 'stein': 1, 'education': 1, 'boot': 1, 'camp': 1, 'graduate': 1, 'experience': 1, 'creating': 1, 'pivot': 1, 'tables': 1, 'vba': 1, 'excel.': 1, 'modeling': 1, 'forecasting': 1, 'basic': 1, 'statistics': 1, 'writing': 1, 'analyze': 1, 'sets': 1, 'from': 1, 'files': 1, 'apis.': 1, 'mining': 1, 'mysql': 1, 'mongodb': 1, 'databases': 1, 'developing': 1, 'front-end': 1, 'visualizations': 1, 'bootstrap,': 1, 'd3,': 1, 'leaflet.js': 1, 'tableau': 1, 'business': 1, 'intelligence': 1, 'performing': 1, 'hadoop': 1, 'learning': 1, 'algorithms': 1, 'skills': 1, 'microsoft': 1, 'excel,': 1, 'python,': 1, 'html/css,': 1, 'api': 1, 'interactions,': 1, 'mining,': 1, 'sql,': 1, 'hadoop,': 1, 'tableau,': 1, 'advanced': 1, 'statistics,': 1, 'learning,': 1, 'r,': 1, 'git/github': 1, 'interests': 1, 'contributing': 1, 'open-source': 1, 'pandas': 1, 'designing': 1, 'apps': 1, 'd3': 1, 'cloud': 1, 'aws': 1})\n",
      "True\n",
      "Top 10 Words\n",
      "=============\n"
     ]
    }
   ],
   "source": [
    "# Resume Word Count\n",
    "# ==========================\n",
    "# Initialize a dictionary with default values equal to zero\n",
    "word_count = {}.fromkeys(word_list, 0)\n",
    "\n",
    "# Loop through the word list and count each word.\n",
    "for word in word_list:\n",
    "    word_count[word] += 1\n",
    "#print(word_count)\n",
    "\n",
    "# Bonus using collections.Counter\n",
    "word_counter = Counter(word_list)\n",
    "#print(word_counter)\n",
    "\n",
    "# Comparing both word count solutions\n",
    "print(word_count == word_counter)\n",
    "\n",
    "# Top 10 Words\n",
    "print(\"Top 10 Words\")\n",
    "print(\"=============\")"
   ]
  },
  {
   "cell_type": "markdown",
   "metadata": {},
   "source": [
    "Replace this with your clear explanation of what happens in the cell below. Which column was sorted and how? How was the top ten selected? Does that explain the significance of `[:10]`?\n",
    "\n",
    "As a bonus, explain how you would get rid of the blank token.\n",
    "\n",
    "In this line of code we populate an empty list titled \"sorted_words\" and use the sorted function and apply it to word_count, define the key as word_count apply the get function to that in order to extract individual elements inside \"word_count\" to be able to sort from highest to lowest count. We add reverse in order to make sure that the highest number is listed at the top and apply [:10] in brackets as a way to take all items and list the top ten based on the descending numerical values we applied from before. "
   ]
  },
  {
   "cell_type": "code",
   "execution_count": 11,
   "metadata": {},
   "outputs": [
    {
     "name": "stdout",
     "output_type": "stream",
     "text": [
      "Token: *                    Count: 15\n",
      "Token: and                  Count: 8\n",
      "Token: data                 Count: 7\n",
      "Token: with                 Count: 6\n",
      "Token: using                Count: 5\n",
      "Token: ##                   Count: 4\n",
      "Token: analytics            Count: 3\n",
      "Token: python               Count: 3\n",
      "Token: working              Count: 3\n",
      "Token: visualization        Count: 2\n"
     ]
    }
   ],
   "source": [
    "# Sort words by count and print the top 10\n",
    "sorted_words = []\n",
    "for word in sorted(word_count, key=word_count.get, reverse=True)[:10]:\n",
    "    print(f\"Token: {word:20} Count: {word_count[word]}\")"
   ]
  },
  {
   "cell_type": "code",
   "execution_count": null,
   "metadata": {},
   "outputs": [],
   "source": []
  }
 ],
 "metadata": {
  "kernelspec": {
   "display_name": "Python 3",
   "language": "python",
   "name": "python3"
  },
  "language_info": {
   "codemirror_mode": {
    "name": "ipython",
    "version": 3
   },
   "file_extension": ".py",
   "mimetype": "text/x-python",
   "name": "python",
   "nbconvert_exporter": "python",
   "pygments_lexer": "ipython3",
   "version": "3.7.3"
  }
 },
 "nbformat": 4,
 "nbformat_minor": 2
}
