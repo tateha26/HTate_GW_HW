{
 "cells": [
  {
   "cell_type": "code",
   "execution_count": null,
   "metadata": {},
   "outputs": [],
   "source": [
    "\"\"\"PyPoll Homework Solution.\"\"\"\n",
    "\n",
    "# Incorporated the csv module\n",
    "import csv\n",
    "import os"
   ]
  },
  {
   "cell_type": "code",
   "execution_count": null,
   "metadata": {},
   "outputs": [],
   "source": [
    "# Files to load and output (Remember to change these)\n",
    "file_to_load = os.path.join(\"Resources\", \"election_data.csv\")\n",
    "file_to_output = os.path.join(\"analysis\", \"election_analysis.txt\")"
   ]
  },
  {
   "cell_type": "code",
   "execution_count": null,
   "metadata": {},
   "outputs": [],
   "source": [
    "# Total Vote Counter\n",
    "total_votes = 0"
   ]
  },
  {
   "cell_type": "code",
   "execution_count": null,
   "metadata": {},
   "outputs": [],
   "source": [
    "# Candidate Options and Vote Counters\n",
    "candidate_options = []\n",
    "candidate_votes = {}"
   ]
  },
  {
   "cell_type": "code",
   "execution_count": null,
   "metadata": {},
   "outputs": [],
   "source": [
    "# Winning Candidate and Winning Count Tracker\n",
    "winning_candidate = \"\"\n",
    "winning_count = 0"
   ]
  },
  {
   "cell_type": "code",
   "execution_count": null,
   "metadata": {},
   "outputs": [],
   "source": [
    "# Read the csv and convert it into a list of dictionaries\n",
    "with open(file_to_load) as election_data:\n",
    "    reader = csv.reader(election_data)\n",
    "    unique_candidates = election_data.pd[\"Candidate\"].unique()\n",
    "\n",
    "dict_poll = {\"Voter ID\": len[1], \"County\": len[2], \"Candidate\", len[3]}\n",
    "    # Read the header\n",
    "    header = next(reader)\n",
    "\n",
    "    # For each row...\n",
    "    for row in reader:\n",
    "\n",
    "        # Run the loader animation\n",
    "        print(\". \", end=\"\"),\n",
    "\n",
    "        "
   ]
  },
  {
   "cell_type": "code",
   "execution_count": null,
   "metadata": {},
   "outputs": [],
   "source": [
    "# Add to the total vote count\n",
    "        total_votes = total_votes + 1\n",
    "\n",
    "       "
   ]
  },
  {
   "cell_type": "code",
   "execution_count": null,
   "metadata": {},
   "outputs": [],
   "source": [
    " # Extract the candidate name from each row\n",
    "        candidate_name = row[2]\n",
    "\n",
    "        "
   ]
  },
  {
   "cell_type": "code",
   "execution_count": null,
   "metadata": {},
   "outputs": [],
   "source": [
    "# If the candidate does not match any existing candidate...\n",
    "        # (In a way, our loop is \"discovering\" candidates as it goes)\n",
    "        if candidate_name not in candidate_options:\n",
    "            \n",
    "\n",
    "            # Add it to the list of candidates in the running\n",
    "            # YOUR CODE HERE\n",
    "\n",
    "            # And begin tracking that candidate's voter count\n",
    "            # YOUR CODE HERE\n",
    "\n",
    "       "
   ]
  },
  {
   "cell_type": "code",
   "execution_count": null,
   "metadata": {},
   "outputs": [],
   "source": [
    " # Then add a vote to that candidate's count\n",
    "        # YOUR CODE HERE"
   ]
  },
  {
   "cell_type": "code",
   "execution_count": null,
   "metadata": {},
   "outputs": [],
   "source": [
    "# Print the results and export the data to our text file\n",
    "with open(file_to_output, \"w\") as txt_file:\n",
    "\n",
    "    # Print the final vote count (to terminal)\n",
    "    # YOUR CODE HERE\n",
    "    print(total_votes)\n",
    "        \n",
    "    # Save the final vote count to the text file\n",
    "    # YOUR CODE HERE\n",
    "    with open(file_as_output, \"w\") as out_file:\n",
    "        for i in range(len())\n",
    "            out_file_write\n",
    "\n",
    "    # Determine the winner by looping through the counts\n",
    "    for candidate in candidate_votes:\n",
    "\n",
    "        # Retrieve vote count and percentage\n",
    "        votes = candidate_votes.get(candidate)\n",
    "        vote_percentage = float(votes) / float(total_votes) * 100\n",
    "\n",
    "        # Determine winning vote count and candidate\n",
    "        if (votes > winning_count):\n",
    "            winning_count = votes\n",
    "            winning_candidate = candidate\n",
    "\n",
    "        # Print each candidate's voter count and percentage (to terminal)\n",
    "        voter_output = # YOUR CODE HERE. HINT: Print the `candidate`, a formatted version of `vote_percentage`, as well as the number of `votes` \n",
    "        f\"{candidate}: {vote_percentage:.3f}% ({votes})\\n\"\n",
    "        print(voter_output, end=\"\")\n",
    "\n",
    "        # Save each candidate's voter count and percentage to text file\n",
    "        # YOUR CODE HERE\n",
    "\n",
    "    "
   ]
  },
  {
   "cell_type": "code",
   "execution_count": null,
   "metadata": {},
   "outputs": [],
   "source": [
    "# Print the winning candidate (to terminal)\n",
    "        # YOUR CODE HERE\n",
    "\n",
    "    # Save the winning candidate's name to the text file\n",
    "    # YOUR CODE HERE"
   ]
  }
 ],
 "metadata": {
  "kernelspec": {
   "display_name": "Python 3",
   "language": "python",
   "name": "python3"
  },
  "language_info": {
   "codemirror_mode": {
    "name": "ipython",
    "version": 3
   },
   "file_extension": ".py",
   "mimetype": "text/x-python",
   "name": "python",
   "nbconvert_exporter": "python",
   "pygments_lexer": "ipython3",
   "version": "3.7.3"
  }
 },
 "nbformat": 4,
 "nbformat_minor": 2
}
