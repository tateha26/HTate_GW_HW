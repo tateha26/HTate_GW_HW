{
 "cells": [
  {
   "cell_type": "code",
   "execution_count": 10,
   "metadata": {},
   "outputs": [],
   "source": [
    "# Dependencies\n",
    "import pandas as pd"
   ]
  },
  {
   "cell_type": "code",
   "execution_count": 11,
   "metadata": {},
   "outputs": [
    {
     "data": {
      "text/html": [
       "<div>\n",
       "<style scoped>\n",
       "    .dataframe tbody tr th:only-of-type {\n",
       "        vertical-align: middle;\n",
       "    }\n",
       "\n",
       "    .dataframe tbody tr th {\n",
       "        vertical-align: top;\n",
       "    }\n",
       "\n",
       "    .dataframe thead th {\n",
       "        text-align: right;\n",
       "    }\n",
       "</style>\n",
       "<table border=\"1\" class=\"dataframe\">\n",
       "  <thead>\n",
       "    <tr style=\"text-align: right;\">\n",
       "      <th></th>\n",
       "      <th>Date</th>\n",
       "      <th>Profit/Losses</th>\n",
       "    </tr>\n",
       "  </thead>\n",
       "  <tbody>\n",
       "    <tr>\n",
       "      <th>0</th>\n",
       "      <td>Jan-2010</td>\n",
       "      <td>867884</td>\n",
       "    </tr>\n",
       "    <tr>\n",
       "      <th>1</th>\n",
       "      <td>Feb-2010</td>\n",
       "      <td>984655</td>\n",
       "    </tr>\n",
       "    <tr>\n",
       "      <th>2</th>\n",
       "      <td>Mar-2010</td>\n",
       "      <td>322013</td>\n",
       "    </tr>\n",
       "    <tr>\n",
       "      <th>3</th>\n",
       "      <td>Apr-2010</td>\n",
       "      <td>-69417</td>\n",
       "    </tr>\n",
       "    <tr>\n",
       "      <th>4</th>\n",
       "      <td>May-2010</td>\n",
       "      <td>310503</td>\n",
       "    </tr>\n",
       "  </tbody>\n",
       "</table>\n",
       "</div>"
      ],
      "text/plain": [
       "       Date  Profit/Losses\n",
       "0  Jan-2010         867884\n",
       "1  Feb-2010         984655\n",
       "2  Mar-2010         322013\n",
       "3  Apr-2010         -69417\n",
       "4  May-2010         310503"
      ]
     },
     "execution_count": 11,
     "metadata": {},
     "output_type": "execute_result"
    }
   ],
   "source": [
    "# Files to load and output (Remember to change these)\n",
    "csv_path = \"Resources/budget_data.csv\"\n",
    "txt_out = \"analysis/budget_analysis.txt\"\n",
    "bank_df = pd.read_csv(csv_path)\n",
    "bank_df.head()\n",
    "#file_to_output = \"analysis\", \"budget_analysis.txt\")\n"
   ]
  },
  {
   "cell_type": "code",
   "execution_count": 12,
   "metadata": {},
   "outputs": [
    {
     "data": {
      "text/plain": [
       "86"
      ]
     },
     "execution_count": 12,
     "metadata": {},
     "output_type": "execute_result"
    }
   ],
   "source": [
    "# Track various financial parameters\n",
    "#total_months = 0\n",
    "#month_of_change = []\n",
    "#net_change_list = []\n",
    "#greatest_increase = [\"\", 0]\n",
    "#greatest_decrease = [\"\", 9999999999999999999]\n",
    "#total_net = 0\n",
    "total_months = len(bank_df)\n",
    "total_months"
   ]
  },
  {
   "cell_type": "code",
   "execution_count": 13,
   "metadata": {},
   "outputs": [
    {
     "data": {
      "text/plain": [
       "38382578"
      ]
     },
     "execution_count": 13,
     "metadata": {},
     "output_type": "execute_result"
    }
   ],
   "source": [
    "# Read the csv and convert it into a list of dictionaries\n",
    "##MY CODE - This is to get the net total of Profit/losses over the whole period.\n",
    "net_total = bank_df[\"Profit/Losses\"].sum()\n",
    "net_total"
   ]
  },
  {
   "cell_type": "code",
   "execution_count": 14,
   "metadata": {},
   "outputs": [
    {
     "data": {
      "text/plain": [
       "446309.0465116279"
      ]
     },
     "execution_count": 14,
     "metadata": {},
     "output_type": "execute_result"
    }
   ],
   "source": [
    " # Read the header row\n",
    "###MY CODE - The average of the changes in \"Profit/Losses\" over the entire period.\n",
    "net_avg = bank_df[\"Profit/Losses\"].mean()\n",
    "net_avg    "
   ]
  },
  {
   "cell_type": "code",
   "execution_count": 15,
   "metadata": {},
   "outputs": [],
   "source": [
    "## MY CODE - Greatest profit increase and decrease over the entire period.\n",
    "bank_df[\"Net Change\"] = bank_df[\"Profit/Losses\"].diff(periods=1)"
   ]
  },
  {
   "cell_type": "code",
   "execution_count": 16,
   "metadata": {},
   "outputs": [
    {
     "data": {
      "text/plain": [
       "1926159.0"
      ]
     },
     "execution_count": 16,
     "metadata": {},
     "output_type": "execute_result"
    }
   ],
   "source": [
    "##MY CODE GREATEST INCREASE\n",
    "greatest_increase = bank_df[\"Net Change\"].max()\n",
    "greatest_increase"
   ]
  },
  {
   "cell_type": "code",
   "execution_count": 17,
   "metadata": {},
   "outputs": [
    {
     "data": {
      "text/plain": [
       "-2196167.0"
      ]
     },
     "execution_count": 17,
     "metadata": {},
     "output_type": "execute_result"
    }
   ],
   "source": [
    "##MY CODE GREATEST DECREASE\n",
    "greatest_decrease = bank_df[\"Net Change\"].min()\n",
    "greatest_decrease"
   ]
  },
  {
   "cell_type": "code",
   "execution_count": 18,
   "metadata": {},
   "outputs": [],
   "source": [
    "# Print the output (to terminal)\n",
    "# YOUR CODE HERE\n",
    "output = (\n",
    "    f\"Financial Analysis\\n\" +\n",
    "    f\"----------------------------\\n\" +\n",
    "    f\"Total Months: {total_months}\\n\" +\n",
    "    f\"Total: ${net_total}\\n\" +\n",
    "    f\"Average  Change: ${net_avg:,.2f}\\n\" +\n",
    "    f\"Greatest Increase in Profits: (${greatest_increase:,.2f})\\n\" +\n",
    "    f\"Greatest Decrease in Profits: (${greatest_decrease:,.2f})\\n\"\n",
    ")"
   ]
  },
  {
   "cell_type": "code",
   "execution_count": 19,
   "metadata": {},
   "outputs": [
    {
     "name": "stdout",
     "output_type": "stream",
     "text": [
      "Financial Analysis\n",
      "----------------------------\n",
      "Total Months: 86\n",
      "Total: $38382578\n",
      "Average  Change: $446,309.05\n",
      "Greatest Increase in Profits: ($1,926,159.00)\n",
      "Greatest Decrease in Profits: ($-2,196,167.00)\n",
      "\n"
     ]
    }
   ],
   "source": [
    "print(output)\n",
    "# Export the results to text file\n",
    "# YOUR CODE HERE\n",
    "Budget = open(\"budget_analysis.txt\", \"w\")\n",
    "Budget.write(output)\n",
    "Budget.close()"
   ]
  }
 ],
 "metadata": {
  "kernelspec": {
   "display_name": "Python 3",
   "language": "python",
   "name": "python3"
  },
  "language_info": {
   "codemirror_mode": {
    "name": "ipython",
    "version": 3
   },
   "file_extension": ".py",
   "mimetype": "text/x-python",
   "name": "python",
   "nbconvert_exporter": "python",
   "pygments_lexer": "ipython3",
   "version": "3.7.3"
  }
 },
 "nbformat": 4,
 "nbformat_minor": 2
}
