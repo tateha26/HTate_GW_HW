{
 "cells": [
  {
   "cell_type": "code",
   "execution_count": null,
   "metadata": {},
   "outputs": [],
   "source": [
    "import os\n",
    "import csv\n",
    "\n",
    "udemy_csv = os.path.join(\"Resources\",\"web_starter.csv\")\n",
    "\n",
    "title = []\n",
    "price = []\n",
    "subscribers = []\n",
    "reviews = []\n",
    "length = []\n",
    "\n",
    "with open(udemy_csv, encoding = 'utf-8') as csvfile:\n",
    "    csvreader = csv.reader(csvfile, delimiter=\",\")\n",
    "    \n",
    "    # loop through\n",
    "    for row in csvreader:\n",
    "        \n",
    "        title.append(row[1])\n",
    "        price.append(row[4])\n",
    "        subscribers.append(row[5])\n",
    "        reviews.append(row[6])\n",
    "        length.append(row[9])\n",
    "\n",
    "zipped_data = zip(title, price, subscribers, reviews, length) \n",
    "\n",
    "output_file = os.path.join(\"dart_web_final.csv\")\n",
    "\n",
    "with open(output_file, \"w\", newline='') as datafile:\n",
    "        writer = csv.writer(datafile)\n",
    "        \n",
    "        writer.writerow([\"Title\",\"Price\",\"Subscribers\",\"Reviews\",\"Length\"])"
   ]
  }
 ],
 "metadata": {
  "kernelspec": {
   "display_name": "Python 3",
   "language": "python",
   "name": "python3"
  },
  "language_info": {
   "codemirror_mode": {
    "name": "ipython",
    "version": 3
   },
   "file_extension": ".py",
   "mimetype": "text/x-python",
   "name": "python",
   "nbconvert_exporter": "python",
   "pygments_lexer": "ipython3",
   "version": "3.7.3"
  }
 },
 "nbformat": 4,
 "nbformat_minor": 2
}
