{
 "cells": [
  {
   "cell_type": "code",
   "execution_count": 1,
   "metadata": {},
   "outputs": [
    {
     "ename": "FileNotFoundError",
     "evalue": "[Errno 2] No such file or directory: 'paragraph_3.txt'",
     "output_type": "error",
     "traceback": [
      "\u001b[0;31m---------------------------------------------------------------------------\u001b[0m",
      "\u001b[0;31mFileNotFoundError\u001b[0m                         Traceback (most recent call last)",
      "\u001b[0;32m<ipython-input-1-6123c80df9f6>\u001b[0m in \u001b[0;36m<module>\u001b[0;34m\u001b[0m\n\u001b[1;32m     11\u001b[0m \u001b[0;34m\u001b[0m\u001b[0m\n\u001b[1;32m     12\u001b[0m \u001b[0;31m# Read the text file\u001b[0m\u001b[0;34m\u001b[0m\u001b[0;34m\u001b[0m\u001b[0;34m\u001b[0m\u001b[0m\n\u001b[0;32m---> 13\u001b[0;31m \u001b[0;32mwith\u001b[0m \u001b[0mopen\u001b[0m\u001b[0;34m(\u001b[0m\u001b[0mfile_to_load\u001b[0m\u001b[0;34m)\u001b[0m \u001b[0;32mas\u001b[0m \u001b[0mtxt_data\u001b[0m\u001b[0;34m:\u001b[0m\u001b[0;34m\u001b[0m\u001b[0;34m\u001b[0m\u001b[0m\n\u001b[0m\u001b[1;32m     14\u001b[0m \u001b[0;34m\u001b[0m\u001b[0m\n\u001b[1;32m     15\u001b[0m     \u001b[0;31m# Store the contents as a string (with no new lines)\u001b[0m\u001b[0;34m\u001b[0m\u001b[0;34m\u001b[0m\u001b[0;34m\u001b[0m\u001b[0m\n",
      "\u001b[0;31mFileNotFoundError\u001b[0m: [Errno 2] No such file or directory: 'paragraph_3.txt'"
     ]
    }
   ],
   "source": [
    "# Incorporate regular expressions (helpful for splitting by punctuation)\n",
    "import re\n",
    "import os\n",
    "\n",
    "# Files to load and output (Remember to change these)\n",
    "file_to_load = os.path.join(\"paragraph_3.txt\")\n",
    "file_to_output = os.path.join(\"analysis\", \"paragraph_analysis.txt\")\n",
    "\n",
    "# String variable to hold the paragraph contents\n",
    "paragraph = \"\"\n",
    "\n",
    "# Read the text file\n",
    "with open(file_to_load) as txt_data:\n",
    "\n",
    "    # Store the contents as a string (with no new lines)\n",
    "    paragraph = txt_data.read().replace(\"\\n\", \" \")\n",
    "\n",
    "# Split the paragraph based on spaces to calculate word count\n",
    "word_split = paragraph.split(\" \")\n",
    "print(word_split)\n",
    "word_count = len(word_split)\n",
    "\n",
    "# Create a list for holding all the letter counts\n",
    "letter_counts = []\n",
    "\n",
    "# Loop through the word array and calculate the length of each word\n",
    "for word in word_split:\n",
    "\n",
    "    # Add each letter count into the letter_counts list\n",
    "    letter_counts.append(len(word))\n",
    "\n",
    "# Calculate the avg letter count\n",
    "avg_letter_count = sum(letter_counts) / float(len(letter_counts))\n",
    "\n",
    "# Re-split the original paragraph based on punctuation (. ? !)\n",
    "sentence_split = re.split(\"(?<=[.!?]) +\", paragraph)\n",
    "print(sentence_split)\n",
    "sentence_count = len(sentence_split)\n",
    "\n",
    "words_per_sentence = []\n",
    "\n",
    "# Loop through the sentence array and calculate the number of words in each\n",
    "for sentence in sentence_split:\n",
    "\n",
    "    # Calculate the number of words in each sentence and add to the list\n",
    "    words_per_sentence.append(len(sentence.split(\" \")))\n",
    "\n",
    "# Calculate the avg word count (per sentence)\n",
    "avg_sentence_len = sum(words_per_sentence) / float(len(words_per_sentence))\n",
    "\n",
    "# Generate Paragraph Analysis Output\n",
    "output = (\n",
    "    f\"\\nParagraph Analysis\\n\"\n",
    "    f\"-----------------\\n\"\n",
    "    f\"Approximate Word Count: {word_count}\\n\"\n",
    "    f\"Approximate Sentence Count: {sentence_count}\\n\"\n",
    "    f\"Average Letter Count: {avg_letter_count}\\n\"\n",
    "    f\"Average Sentence Length: {avg_sentence_len}\\n\")\n",
    "\n",
    "# Print all of the results (to terminal)\n",
    "print(output)\n",
    "\n",
    "# Save the results to analysis text file\n",
    "with open(file_to_output, \"a\") as txt_file:\n",
    "    txt_file.write(output)"
   ]
  }
 ],
 "metadata": {
  "kernelspec": {
   "display_name": "Python 3",
   "language": "python",
   "name": "python3"
  },
  "language_info": {
   "codemirror_mode": {
    "name": "ipython",
    "version": 3
   },
   "file_extension": ".py",
   "mimetype": "text/x-python",
   "name": "python",
   "nbconvert_exporter": "python",
   "pygments_lexer": "ipython3",
   "version": "3.7.3"
  }
 },
 "nbformat": 4,
 "nbformat_minor": 2
}
