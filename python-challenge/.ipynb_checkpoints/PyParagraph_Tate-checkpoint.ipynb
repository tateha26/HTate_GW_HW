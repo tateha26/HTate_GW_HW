{
 "cells": [
  {
   "cell_type": "code",
   "execution_count": null,
   "metadata": {},
   "outputs": [],
   "source": [
    "# Incorporate regular expressions (helpful for splitting by punctuation)\n",
    "import re\n",
    "import os\n",
    "from datetime import datetime"
   ]
  },
  {
   "cell_type": "code",
   "execution_count": null,
   "metadata": {},
   "outputs": [],
   "source": [
    "# Files to load and output (Remember to change these)\n",
    "file_to_load = os.path.join(\"raw_data\", \"paragraph_3.txt\")\n",
    "file_to_output = os.path.join(\"analysis\", \"paragraph_analysis.txt\")\n",
    "\n",
    "# String variable to hold the paragraph contents\n",
    "paragraph = \"\"\n",
    "\n",
    "# Read the text file\n",
    "with open(file_to_load) as txt_data:\n",
    "\n",
    "    # Store the contents as a string (with no new lines)\n",
    "    paragraph = txt_data.read().replace(\"\\n\", \" \")\n",
    "\n",
    "# Split the paragraph based on spaces to calculate word count\n",
    "word_split = paragraph.split(\" \")\n",
    "print(word_split)\n",
    "word_count = len(word_split)\n",
    "\n",
    "# Create a list for holding all the letter counts\n",
    "letter_counts = []\n",
    "\n",
    "# Loop through the word array and calculate the length of each word\n",
    "for word in word_split:\n",
    "\n",
    "    # Add each letter count into the letter_counts list\n",
    "    letter_counts.append(len(word))\n",
    "\n",
    "# Calculate the avg letter count\n",
    "avg_letter_count = sum(letter_counts) / float(len(letter_counts))\n",
    "\n",
    "# Re-split the original paragraph based on punctuation (. ? !)\n",
    "sentence_split = re.split(\"(?<=[.!?]) +\", paragraph)\n",
    "print(sentence_split)\n",
    "sentence_count = len(sentence_split)\n",
    "\n",
    "words_per_sentence = []\n",
    "\n",
    "# Loop through the sentence array and calculate the number of words in each\n",
    "for sentence in sentence_split:\n",
    "\n",
    "    # Calculate the number of words in each sentence and add to the list\n",
    "    #YOUR CODE HERE\n",
    "\n",
    "# Calculate the avg word count (per sentence)\n",
    "#YOUR CODE HERE\n",
    "    \n",
    "# Generate Paragraph Analysis Output\n",
    "#YOUR CODE HERE\n",
    "\n",
    "# Print all of the results (to terminal)\n",
    "#YOUR CODE HERE\n",
    "    \n",
    "# Save the results to analysis text file\n",
    "#YOUR CODE HERE"
   ]
  }
 ],
 "metadata": {
  "kernelspec": {
   "display_name": "Python 3",
   "language": "python",
   "name": "python3"
  },
  "language_info": {
   "codemirror_mode": {
    "name": "ipython",
    "version": 3
   },
   "file_extension": ".py",
   "mimetype": "text/x-python",
   "name": "python",
   "nbconvert_exporter": "python",
   "pygments_lexer": "ipython3",
   "version": "3.7.3"
  }
 },
 "nbformat": 4,
 "nbformat_minor": 2
}
